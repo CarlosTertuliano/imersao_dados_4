{
  "nbformat": 4,
  "nbformat_minor": 0,
  "metadata": {
    "colab": {
      "name": "imersao_dados_4_dia_2_alura.ipynb",
      "provenance": [],
      "authorship_tag": "ABX9TyMqae/2Igv5LjodAWqx0Tuh",
      "include_colab_link": true
    },
    "kernelspec": {
      "name": "python3",
      "display_name": "Python 3"
    },
    "language_info": {
      "name": "python"
    }
  },
  "cells": [
    {
      "cell_type": "markdown",
      "metadata": {
        "id": "view-in-github",
        "colab_type": "text"
      },
      "source": [
        "<a href=\"https://colab.research.google.com/github/CarlosTertuliano/imersao_dados_4/blob/main/imersao_dados_4_dia_2_alura.ipynb\" target=\"_parent\"><img src=\"https://colab.research.google.com/assets/colab-badge.svg\" alt=\"Open In Colab\"/></a>"
      ]
    },
    {
      "cell_type": "markdown",
      "source": [
        "# Tratamendo de dados e primeiros gráficos\n",
        "\n",
        "---\n",
        "\n"
      ],
      "metadata": {
        "id": "3r7GI_gmKUF1"
      }
    },
    {
      "cell_type": "code",
      "execution_count": null,
      "metadata": {
        "colab": {
          "base_uri": "https://localhost:8080/",
          "height": 250
        },
        "id": "yrXpFbHsJ_hM",
        "outputId": "49db876e-9ad4-4c89-ee72-cf74e6a1a23c"
      },
      "outputs": [
        {
          "output_type": "execute_result",
          "data": {
            "text/plain": [
              "                              Rua              Bairro     Cidade  Metragem  \\\n",
              "0           Avenida Itacira, 255    Planalto Paulista  São Paulo      1000   \n",
              "1  Rua Aurelia Perez Alvarez, 42   Jardim dos Estados  São Paulo       496   \n",
              "2                 Rua Alba Valdez     Jardim Reimberg  São Paulo       125   \n",
              "3                             NaN      Jardim Morumbi  São Paulo       310   \n",
              "4        Rua Tobias Barreto, 195                Mooca  São Paulo       100   \n",
              "\n",
              "   Quartos  Banheiros  Vagas         Valor  \n",
              "0        4          8      6  R$ 7.000.000  \n",
              "1        4          4      4  R$ 3.700.000  \n",
              "2        4          3      2    R$ 380.000  \n",
              "3        3          2      4    R$ 685.000  \n",
              "4        3          2      2    R$ 540.000  "
            ],
            "text/html": [
              "\n",
              "  <div id=\"df-8d3e4110-ba6a-4612-bcc4-467e0ead2cd1\">\n",
              "    <div class=\"colab-df-container\">\n",
              "      <div>\n",
              "<style scoped>\n",
              "    .dataframe tbody tr th:only-of-type {\n",
              "        vertical-align: middle;\n",
              "    }\n",
              "\n",
              "    .dataframe tbody tr th {\n",
              "        vertical-align: top;\n",
              "    }\n",
              "\n",
              "    .dataframe thead th {\n",
              "        text-align: right;\n",
              "    }\n",
              "</style>\n",
              "<table border=\"1\" class=\"dataframe\">\n",
              "  <thead>\n",
              "    <tr style=\"text-align: right;\">\n",
              "      <th></th>\n",
              "      <th>Rua</th>\n",
              "      <th>Bairro</th>\n",
              "      <th>Cidade</th>\n",
              "      <th>Metragem</th>\n",
              "      <th>Quartos</th>\n",
              "      <th>Banheiros</th>\n",
              "      <th>Vagas</th>\n",
              "      <th>Valor</th>\n",
              "    </tr>\n",
              "  </thead>\n",
              "  <tbody>\n",
              "    <tr>\n",
              "      <th>0</th>\n",
              "      <td>Avenida Itacira, 255</td>\n",
              "      <td>Planalto Paulista</td>\n",
              "      <td>São Paulo</td>\n",
              "      <td>1000</td>\n",
              "      <td>4</td>\n",
              "      <td>8</td>\n",
              "      <td>6</td>\n",
              "      <td>R$ 7.000.000</td>\n",
              "    </tr>\n",
              "    <tr>\n",
              "      <th>1</th>\n",
              "      <td>Rua Aurelia Perez Alvarez, 42</td>\n",
              "      <td>Jardim dos Estados</td>\n",
              "      <td>São Paulo</td>\n",
              "      <td>496</td>\n",
              "      <td>4</td>\n",
              "      <td>4</td>\n",
              "      <td>4</td>\n",
              "      <td>R$ 3.700.000</td>\n",
              "    </tr>\n",
              "    <tr>\n",
              "      <th>2</th>\n",
              "      <td>Rua Alba Valdez</td>\n",
              "      <td>Jardim Reimberg</td>\n",
              "      <td>São Paulo</td>\n",
              "      <td>125</td>\n",
              "      <td>4</td>\n",
              "      <td>3</td>\n",
              "      <td>2</td>\n",
              "      <td>R$ 380.000</td>\n",
              "    </tr>\n",
              "    <tr>\n",
              "      <th>3</th>\n",
              "      <td>NaN</td>\n",
              "      <td>Jardim Morumbi</td>\n",
              "      <td>São Paulo</td>\n",
              "      <td>310</td>\n",
              "      <td>3</td>\n",
              "      <td>2</td>\n",
              "      <td>4</td>\n",
              "      <td>R$ 685.000</td>\n",
              "    </tr>\n",
              "    <tr>\n",
              "      <th>4</th>\n",
              "      <td>Rua Tobias Barreto, 195</td>\n",
              "      <td>Mooca</td>\n",
              "      <td>São Paulo</td>\n",
              "      <td>100</td>\n",
              "      <td>3</td>\n",
              "      <td>2</td>\n",
              "      <td>2</td>\n",
              "      <td>R$ 540.000</td>\n",
              "    </tr>\n",
              "  </tbody>\n",
              "</table>\n",
              "</div>\n",
              "      <button class=\"colab-df-convert\" onclick=\"convertToInteractive('df-8d3e4110-ba6a-4612-bcc4-467e0ead2cd1')\"\n",
              "              title=\"Convert this dataframe to an interactive table.\"\n",
              "              style=\"display:none;\">\n",
              "        \n",
              "  <svg xmlns=\"http://www.w3.org/2000/svg\" height=\"24px\"viewBox=\"0 0 24 24\"\n",
              "       width=\"24px\">\n",
              "    <path d=\"M0 0h24v24H0V0z\" fill=\"none\"/>\n",
              "    <path d=\"M18.56 5.44l.94 2.06.94-2.06 2.06-.94-2.06-.94-.94-2.06-.94 2.06-2.06.94zm-11 1L8.5 8.5l.94-2.06 2.06-.94-2.06-.94L8.5 2.5l-.94 2.06-2.06.94zm10 10l.94 2.06.94-2.06 2.06-.94-2.06-.94-.94-2.06-.94 2.06-2.06.94z\"/><path d=\"M17.41 7.96l-1.37-1.37c-.4-.4-.92-.59-1.43-.59-.52 0-1.04.2-1.43.59L10.3 9.45l-7.72 7.72c-.78.78-.78 2.05 0 2.83L4 21.41c.39.39.9.59 1.41.59.51 0 1.02-.2 1.41-.59l7.78-7.78 2.81-2.81c.8-.78.8-2.07 0-2.86zM5.41 20L4 18.59l7.72-7.72 1.47 1.35L5.41 20z\"/>\n",
              "  </svg>\n",
              "      </button>\n",
              "      \n",
              "  <style>\n",
              "    .colab-df-container {\n",
              "      display:flex;\n",
              "      flex-wrap:wrap;\n",
              "      gap: 12px;\n",
              "    }\n",
              "\n",
              "    .colab-df-convert {\n",
              "      background-color: #E8F0FE;\n",
              "      border: none;\n",
              "      border-radius: 50%;\n",
              "      cursor: pointer;\n",
              "      display: none;\n",
              "      fill: #1967D2;\n",
              "      height: 32px;\n",
              "      padding: 0 0 0 0;\n",
              "      width: 32px;\n",
              "    }\n",
              "\n",
              "    .colab-df-convert:hover {\n",
              "      background-color: #E2EBFA;\n",
              "      box-shadow: 0px 1px 2px rgba(60, 64, 67, 0.3), 0px 1px 3px 1px rgba(60, 64, 67, 0.15);\n",
              "      fill: #174EA6;\n",
              "    }\n",
              "\n",
              "    [theme=dark] .colab-df-convert {\n",
              "      background-color: #3B4455;\n",
              "      fill: #D2E3FC;\n",
              "    }\n",
              "\n",
              "    [theme=dark] .colab-df-convert:hover {\n",
              "      background-color: #434B5C;\n",
              "      box-shadow: 0px 1px 3px 1px rgba(0, 0, 0, 0.15);\n",
              "      filter: drop-shadow(0px 1px 2px rgba(0, 0, 0, 0.3));\n",
              "      fill: #FFFFFF;\n",
              "    }\n",
              "  </style>\n",
              "\n",
              "      <script>\n",
              "        const buttonEl =\n",
              "          document.querySelector('#df-8d3e4110-ba6a-4612-bcc4-467e0ead2cd1 button.colab-df-convert');\n",
              "        buttonEl.style.display =\n",
              "          google.colab.kernel.accessAllowed ? 'block' : 'none';\n",
              "\n",
              "        async function convertToInteractive(key) {\n",
              "          const element = document.querySelector('#df-8d3e4110-ba6a-4612-bcc4-467e0ead2cd1');\n",
              "          const dataTable =\n",
              "            await google.colab.kernel.invokeFunction('convertToInteractive',\n",
              "                                                     [key], {});\n",
              "          if (!dataTable) return;\n",
              "\n",
              "          const docLinkHtml = 'Like what you see? Visit the ' +\n",
              "            '<a target=\"_blank\" href=https://colab.research.google.com/notebooks/data_table.ipynb>data table notebook</a>'\n",
              "            + ' to learn more about interactive tables.';\n",
              "          element.innerHTML = '';\n",
              "          dataTable['output_type'] = 'display_data';\n",
              "          await google.colab.output.renderOutput(dataTable, element);\n",
              "          const docLink = document.createElement('div');\n",
              "          docLink.innerHTML = docLinkHtml;\n",
              "          element.appendChild(docLink);\n",
              "        }\n",
              "      </script>\n",
              "    </div>\n",
              "  </div>\n",
              "  "
            ]
          },
          "metadata": {},
          "execution_count": 31
        }
      ],
      "source": [
        "import pandas as pd\n",
        "url = \"https://gist.githubusercontent.com/tgcsantos/3bdb29eba6ce391e90df2b72205ba891/raw/22fa920e80c9fa209a9fccc8b52d74cc95d1599b/dados_imoveis.csv\"\n",
        "dados = pd.read_csv(url)\n",
        "\n",
        "dados.head()"
      ]
    },
    {
      "cell_type": "markdown",
      "source": [
        "Utilizaremos a função *info( )* para que possamos ter uma vizualização geral dos dados que temos. Observando os tipos dos dados e a quantidade de valores não nulos."
      ],
      "metadata": {
        "id": "MJSpR4nMKQWa"
      }
    },
    {
      "cell_type": "code",
      "source": [
        "dados.info()"
      ],
      "metadata": {
        "colab": {
          "base_uri": "https://localhost:8080/"
        },
        "id": "LvLz8mQWK8zG",
        "outputId": "466fffbe-b63e-48bb-8ca2-61a4afb7c9e3"
      },
      "execution_count": null,
      "outputs": [
        {
          "output_type": "stream",
          "name": "stdout",
          "text": [
            "<class 'pandas.core.frame.DataFrame'>\n",
            "RangeIndex: 10008 entries, 0 to 10007\n",
            "Data columns (total 8 columns):\n",
            " #   Column     Non-Null Count  Dtype \n",
            "---  ------     --------------  ----- \n",
            " 0   Rua        6574 non-null   object\n",
            " 1   Bairro     9996 non-null   object\n",
            " 2   Cidade     10008 non-null  object\n",
            " 3   Metragem   10008 non-null  int64 \n",
            " 4   Quartos    10008 non-null  int64 \n",
            " 5   Banheiros  10008 non-null  int64 \n",
            " 6   Vagas      10008 non-null  int64 \n",
            " 7   Valor      10008 non-null  object\n",
            "dtypes: int64(4), object(4)\n",
            "memory usage: 625.6+ KB\n"
          ]
        }
      ]
    },
    {
      "cell_type": "markdown",
      "source": [
        "Vimos anteriormente que diversas ruas e bairros estão com valores nulos. Porém o maior problema para agora é que os indíces da coluna \"Valor\" estão sendo considerados como \"*object*\", impossibilitando que possamos retiramr mais informções a partir desses dados como: média, mínimo, máximo, valor do metro por bairro, entre outras coisas.\n",
        "\n",
        "Portanto iremos tratar esses dados para que se tornem valores numéricos."
      ],
      "metadata": {
        "id": "i_fCWYPeLWDV"
      }
    },
    {
      "cell_type": "code",
      "source": [
        "dados [[\"Moeda\", \"Valor_anuncio\", \"Tipo_anuncio\"]] = dados[\"Valor\"].str.split(expand = True)\n",
        "\n",
        "dados.head()"
      ],
      "metadata": {
        "colab": {
          "base_uri": "https://localhost:8080/",
          "height": 478
        },
        "id": "2brm2MEoLC2V",
        "outputId": "f9e88938-c547-4e18-cd54-40fb0ba845e5"
      },
      "execution_count": null,
      "outputs": [
        {
          "output_type": "execute_result",
          "data": {
            "text/plain": [
              "                              Rua              Bairro     Cidade  Metragem  \\\n",
              "0           Avenida Itacira, 255    Planalto Paulista  São Paulo      1000   \n",
              "1  Rua Aurelia Perez Alvarez, 42   Jardim dos Estados  São Paulo       496   \n",
              "2                 Rua Alba Valdez     Jardim Reimberg  São Paulo       125   \n",
              "3                             NaN      Jardim Morumbi  São Paulo       310   \n",
              "4        Rua Tobias Barreto, 195                Mooca  São Paulo       100   \n",
              "\n",
              "   Quartos  Banheiros  Vagas         Valor Moeda Valor_anuncio Tipo_anuncio  \n",
              "0        4          8      6  R$ 7.000.000    R$     7.000.000         None  \n",
              "1        4          4      4  R$ 3.700.000    R$     3.700.000         None  \n",
              "2        4          3      2    R$ 380.000    R$       380.000         None  \n",
              "3        3          2      4    R$ 685.000    R$       685.000         None  \n",
              "4        3          2      2    R$ 540.000    R$       540.000         None  "
            ],
            "text/html": [
              "\n",
              "  <div id=\"df-b1345e6c-bc84-44f5-baf8-6274eeb3be87\">\n",
              "    <div class=\"colab-df-container\">\n",
              "      <div>\n",
              "<style scoped>\n",
              "    .dataframe tbody tr th:only-of-type {\n",
              "        vertical-align: middle;\n",
              "    }\n",
              "\n",
              "    .dataframe tbody tr th {\n",
              "        vertical-align: top;\n",
              "    }\n",
              "\n",
              "    .dataframe thead th {\n",
              "        text-align: right;\n",
              "    }\n",
              "</style>\n",
              "<table border=\"1\" class=\"dataframe\">\n",
              "  <thead>\n",
              "    <tr style=\"text-align: right;\">\n",
              "      <th></th>\n",
              "      <th>Rua</th>\n",
              "      <th>Bairro</th>\n",
              "      <th>Cidade</th>\n",
              "      <th>Metragem</th>\n",
              "      <th>Quartos</th>\n",
              "      <th>Banheiros</th>\n",
              "      <th>Vagas</th>\n",
              "      <th>Valor</th>\n",
              "      <th>Moeda</th>\n",
              "      <th>Valor_anuncio</th>\n",
              "      <th>Tipo_anuncio</th>\n",
              "    </tr>\n",
              "  </thead>\n",
              "  <tbody>\n",
              "    <tr>\n",
              "      <th>0</th>\n",
              "      <td>Avenida Itacira, 255</td>\n",
              "      <td>Planalto Paulista</td>\n",
              "      <td>São Paulo</td>\n",
              "      <td>1000</td>\n",
              "      <td>4</td>\n",
              "      <td>8</td>\n",
              "      <td>6</td>\n",
              "      <td>R$ 7.000.000</td>\n",
              "      <td>R$</td>\n",
              "      <td>7.000.000</td>\n",
              "      <td>None</td>\n",
              "    </tr>\n",
              "    <tr>\n",
              "      <th>1</th>\n",
              "      <td>Rua Aurelia Perez Alvarez, 42</td>\n",
              "      <td>Jardim dos Estados</td>\n",
              "      <td>São Paulo</td>\n",
              "      <td>496</td>\n",
              "      <td>4</td>\n",
              "      <td>4</td>\n",
              "      <td>4</td>\n",
              "      <td>R$ 3.700.000</td>\n",
              "      <td>R$</td>\n",
              "      <td>3.700.000</td>\n",
              "      <td>None</td>\n",
              "    </tr>\n",
              "    <tr>\n",
              "      <th>2</th>\n",
              "      <td>Rua Alba Valdez</td>\n",
              "      <td>Jardim Reimberg</td>\n",
              "      <td>São Paulo</td>\n",
              "      <td>125</td>\n",
              "      <td>4</td>\n",
              "      <td>3</td>\n",
              "      <td>2</td>\n",
              "      <td>R$ 380.000</td>\n",
              "      <td>R$</td>\n",
              "      <td>380.000</td>\n",
              "      <td>None</td>\n",
              "    </tr>\n",
              "    <tr>\n",
              "      <th>3</th>\n",
              "      <td>NaN</td>\n",
              "      <td>Jardim Morumbi</td>\n",
              "      <td>São Paulo</td>\n",
              "      <td>310</td>\n",
              "      <td>3</td>\n",
              "      <td>2</td>\n",
              "      <td>4</td>\n",
              "      <td>R$ 685.000</td>\n",
              "      <td>R$</td>\n",
              "      <td>685.000</td>\n",
              "      <td>None</td>\n",
              "    </tr>\n",
              "    <tr>\n",
              "      <th>4</th>\n",
              "      <td>Rua Tobias Barreto, 195</td>\n",
              "      <td>Mooca</td>\n",
              "      <td>São Paulo</td>\n",
              "      <td>100</td>\n",
              "      <td>3</td>\n",
              "      <td>2</td>\n",
              "      <td>2</td>\n",
              "      <td>R$ 540.000</td>\n",
              "      <td>R$</td>\n",
              "      <td>540.000</td>\n",
              "      <td>None</td>\n",
              "    </tr>\n",
              "  </tbody>\n",
              "</table>\n",
              "</div>\n",
              "      <button class=\"colab-df-convert\" onclick=\"convertToInteractive('df-b1345e6c-bc84-44f5-baf8-6274eeb3be87')\"\n",
              "              title=\"Convert this dataframe to an interactive table.\"\n",
              "              style=\"display:none;\">\n",
              "        \n",
              "  <svg xmlns=\"http://www.w3.org/2000/svg\" height=\"24px\"viewBox=\"0 0 24 24\"\n",
              "       width=\"24px\">\n",
              "    <path d=\"M0 0h24v24H0V0z\" fill=\"none\"/>\n",
              "    <path d=\"M18.56 5.44l.94 2.06.94-2.06 2.06-.94-2.06-.94-.94-2.06-.94 2.06-2.06.94zm-11 1L8.5 8.5l.94-2.06 2.06-.94-2.06-.94L8.5 2.5l-.94 2.06-2.06.94zm10 10l.94 2.06.94-2.06 2.06-.94-2.06-.94-.94-2.06-.94 2.06-2.06.94z\"/><path d=\"M17.41 7.96l-1.37-1.37c-.4-.4-.92-.59-1.43-.59-.52 0-1.04.2-1.43.59L10.3 9.45l-7.72 7.72c-.78.78-.78 2.05 0 2.83L4 21.41c.39.39.9.59 1.41.59.51 0 1.02-.2 1.41-.59l7.78-7.78 2.81-2.81c.8-.78.8-2.07 0-2.86zM5.41 20L4 18.59l7.72-7.72 1.47 1.35L5.41 20z\"/>\n",
              "  </svg>\n",
              "      </button>\n",
              "      \n",
              "  <style>\n",
              "    .colab-df-container {\n",
              "      display:flex;\n",
              "      flex-wrap:wrap;\n",
              "      gap: 12px;\n",
              "    }\n",
              "\n",
              "    .colab-df-convert {\n",
              "      background-color: #E8F0FE;\n",
              "      border: none;\n",
              "      border-radius: 50%;\n",
              "      cursor: pointer;\n",
              "      display: none;\n",
              "      fill: #1967D2;\n",
              "      height: 32px;\n",
              "      padding: 0 0 0 0;\n",
              "      width: 32px;\n",
              "    }\n",
              "\n",
              "    .colab-df-convert:hover {\n",
              "      background-color: #E2EBFA;\n",
              "      box-shadow: 0px 1px 2px rgba(60, 64, 67, 0.3), 0px 1px 3px 1px rgba(60, 64, 67, 0.15);\n",
              "      fill: #174EA6;\n",
              "    }\n",
              "\n",
              "    [theme=dark] .colab-df-convert {\n",
              "      background-color: #3B4455;\n",
              "      fill: #D2E3FC;\n",
              "    }\n",
              "\n",
              "    [theme=dark] .colab-df-convert:hover {\n",
              "      background-color: #434B5C;\n",
              "      box-shadow: 0px 1px 3px 1px rgba(0, 0, 0, 0.15);\n",
              "      filter: drop-shadow(0px 1px 2px rgba(0, 0, 0, 0.3));\n",
              "      fill: #FFFFFF;\n",
              "    }\n",
              "  </style>\n",
              "\n",
              "      <script>\n",
              "        const buttonEl =\n",
              "          document.querySelector('#df-b1345e6c-bc84-44f5-baf8-6274eeb3be87 button.colab-df-convert');\n",
              "        buttonEl.style.display =\n",
              "          google.colab.kernel.accessAllowed ? 'block' : 'none';\n",
              "\n",
              "        async function convertToInteractive(key) {\n",
              "          const element = document.querySelector('#df-b1345e6c-bc84-44f5-baf8-6274eeb3be87');\n",
              "          const dataTable =\n",
              "            await google.colab.kernel.invokeFunction('convertToInteractive',\n",
              "                                                     [key], {});\n",
              "          if (!dataTable) return;\n",
              "\n",
              "          const docLinkHtml = 'Like what you see? Visit the ' +\n",
              "            '<a target=\"_blank\" href=https://colab.research.google.com/notebooks/data_table.ipynb>data table notebook</a>'\n",
              "            + ' to learn more about interactive tables.';\n",
              "          element.innerHTML = '';\n",
              "          dataTable['output_type'] = 'display_data';\n",
              "          await google.colab.output.renderOutput(dataTable, element);\n",
              "          const docLink = document.createElement('div');\n",
              "          docLink.innerHTML = docLinkHtml;\n",
              "          element.appendChild(docLink);\n",
              "        }\n",
              "      </script>\n",
              "    </div>\n",
              "  </div>\n",
              "  "
            ]
          },
          "metadata": {},
          "execution_count": 33
        }
      ]
    },
    {
      "cell_type": "markdown",
      "source": [
        "Aparentemente já está tudo certo e podemos prosseguir com as nossas análises...⚠️⚠️⚠️\n",
        "\n",
        "Nada disso, apesar de não ter sido mostrado na tabela acima já tinhamos visto que alguns valores possuiam mais informações do que tipo da moeda e o valor. Observe que na coluna \"Tipo_anuncio\" existe mais de um valor"
      ],
      "metadata": {
        "id": "npjXzu3ENVws"
      }
    },
    {
      "cell_type": "code",
      "source": [
        "dados[\"Valor\"].str.split(expand = True)[2].unique()"
      ],
      "metadata": {
        "colab": {
          "base_uri": "https://localhost:8080/"
        },
        "id": "B59AS2rpN2FV",
        "outputId": "35aea33b-7667-4332-f3a1-43a516f129f1"
      },
      "execution_count": null,
      "outputs": [
        {
          "output_type": "execute_result",
          "data": {
            "text/plain": [
              "array([None, '/Mês', '/Ano', '/Dia'], dtype=object)"
            ]
          },
          "metadata": {},
          "execution_count": 34
        }
      ]
    },
    {
      "cell_type": "markdown",
      "source": [
        "Pelo visto nos dados que nos foram passados também tinham alguns anúncios de aluguel e queremos saber apenas as informações a respeito dos imóveis a venda. Vamos retirar esses valores indesejados. "
      ],
      "metadata": {
        "id": "-zNqSzx4N5Td"
      }
    },
    {
      "cell_type": "code",
      "source": [
        "dados_vendas = dados[dados[\"Tipo_anuncio\"].isnull()]"
      ],
      "metadata": {
        "id": "xY6c1EtfN4OS"
      },
      "execution_count": null,
      "outputs": []
    },
    {
      "cell_type": "code",
      "source": [
        "dados.info()"
      ],
      "metadata": {
        "colab": {
          "base_uri": "https://localhost:8080/"
        },
        "id": "rJtbIcf4OSwL",
        "outputId": "35507037-0702-4f04-f967-38b8d9485acf"
      },
      "execution_count": null,
      "outputs": [
        {
          "output_type": "stream",
          "name": "stdout",
          "text": [
            "<class 'pandas.core.frame.DataFrame'>\n",
            "RangeIndex: 10008 entries, 0 to 10007\n",
            "Data columns (total 11 columns):\n",
            " #   Column         Non-Null Count  Dtype \n",
            "---  ------         --------------  ----- \n",
            " 0   Rua            6574 non-null   object\n",
            " 1   Bairro         9996 non-null   object\n",
            " 2   Cidade         10008 non-null  object\n",
            " 3   Metragem       10008 non-null  int64 \n",
            " 4   Quartos        10008 non-null  int64 \n",
            " 5   Banheiros      10008 non-null  int64 \n",
            " 6   Vagas          10008 non-null  int64 \n",
            " 7   Valor          10008 non-null  object\n",
            " 8   Moeda          10008 non-null  object\n",
            " 9   Valor_anuncio  10008 non-null  object\n",
            " 10  Tipo_anuncio   852 non-null    object\n",
            "dtypes: int64(4), object(7)\n",
            "memory usage: 860.2+ KB\n"
          ]
        }
      ]
    },
    {
      "cell_type": "code",
      "source": [
        "dados_vendas.info()"
      ],
      "metadata": {
        "colab": {
          "base_uri": "https://localhost:8080/"
        },
        "id": "FQnNmiYDOWw0",
        "outputId": "dbea3c3a-c7ec-4ed2-cf28-4f81042da80a"
      },
      "execution_count": null,
      "outputs": [
        {
          "output_type": "stream",
          "name": "stdout",
          "text": [
            "<class 'pandas.core.frame.DataFrame'>\n",
            "Int64Index: 9156 entries, 0 to 10007\n",
            "Data columns (total 11 columns):\n",
            " #   Column         Non-Null Count  Dtype \n",
            "---  ------         --------------  ----- \n",
            " 0   Rua            6107 non-null   object\n",
            " 1   Bairro         9146 non-null   object\n",
            " 2   Cidade         9156 non-null   object\n",
            " 3   Metragem       9156 non-null   int64 \n",
            " 4   Quartos        9156 non-null   int64 \n",
            " 5   Banheiros      9156 non-null   int64 \n",
            " 6   Vagas          9156 non-null   int64 \n",
            " 7   Valor          9156 non-null   object\n",
            " 8   Moeda          9156 non-null   object\n",
            " 9   Valor_anuncio  9156 non-null   object\n",
            " 10  Tipo_anuncio   0 non-null      object\n",
            "dtypes: int64(4), object(7)\n",
            "memory usage: 858.4+ KB\n"
          ]
        }
      ]
    },
    {
      "cell_type": "markdown",
      "source": [
        "Tudo certo! Já podemos ver que o número de linhas diminuiu de um conjunto de dados para o outro, ou seja, a exclusão dos valores indesejados foi um sucesso.\n",
        "\n",
        "Porém ainda temos um problema, o valor do anúncio ainda está sendo considerado como objeto  😨 \n",
        "\n",
        "Sem desespero, podemos resolver isso."
      ],
      "metadata": {
        "id": "c3yW6bVJOeYf"
      }
    },
    {
      "cell_type": "code",
      "source": [
        "dados_vendas[\"Valor_anuncio\"] = dados_vendas[\"Valor_anuncio\"].str.replace('.', '').astype(float)"
      ],
      "metadata": {
        "colab": {
          "base_uri": "https://localhost:8080/"
        },
        "id": "XMUqXIkwOZw2",
        "outputId": "f3e29e11-bca9-4bd5-8bd1-0c6f57a38ea1"
      },
      "execution_count": null,
      "outputs": [
        {
          "output_type": "stream",
          "name": "stderr",
          "text": [
            "/usr/local/lib/python3.7/dist-packages/ipykernel_launcher.py:1: FutureWarning: The default value of regex will change from True to False in a future version. In addition, single character regular expressions will *not* be treated as literal strings when regex=True.\n",
            "  \"\"\"Entry point for launching an IPython kernel.\n",
            "/usr/local/lib/python3.7/dist-packages/ipykernel_launcher.py:1: SettingWithCopyWarning: \n",
            "A value is trying to be set on a copy of a slice from a DataFrame.\n",
            "Try using .loc[row_indexer,col_indexer] = value instead\n",
            "\n",
            "See the caveats in the documentation: https://pandas.pydata.org/pandas-docs/stable/user_guide/indexing.html#returning-a-view-versus-a-copy\n",
            "  \"\"\"Entry point for launching an IPython kernel.\n"
          ]
        }
      ]
    },
    {
      "cell_type": "code",
      "source": [
        "dados_vendas.info()"
      ],
      "metadata": {
        "colab": {
          "base_uri": "https://localhost:8080/"
        },
        "id": "6Vfpbz9lPH4x",
        "outputId": "7f8db877-1ca8-42fd-8e28-d265fc898de2"
      },
      "execution_count": null,
      "outputs": [
        {
          "output_type": "stream",
          "name": "stdout",
          "text": [
            "<class 'pandas.core.frame.DataFrame'>\n",
            "Int64Index: 9156 entries, 0 to 10007\n",
            "Data columns (total 11 columns):\n",
            " #   Column         Non-Null Count  Dtype  \n",
            "---  ------         --------------  -----  \n",
            " 0   Rua            6107 non-null   object \n",
            " 1   Bairro         9146 non-null   object \n",
            " 2   Cidade         9156 non-null   object \n",
            " 3   Metragem       9156 non-null   int64  \n",
            " 4   Quartos        9156 non-null   int64  \n",
            " 5   Banheiros      9156 non-null   int64  \n",
            " 6   Vagas          9156 non-null   int64  \n",
            " 7   Valor          9156 non-null   object \n",
            " 8   Moeda          9156 non-null   object \n",
            " 9   Valor_anuncio  9156 non-null   float64\n",
            " 10  Tipo_anuncio   0 non-null      object \n",
            "dtypes: float64(1), int64(4), object(6)\n",
            "memory usage: 858.4+ KB\n"
          ]
        }
      ]
    },
    {
      "cell_type": "code",
      "source": [
        "dados_vendas.describe()"
      ],
      "metadata": {
        "colab": {
          "base_uri": "https://localhost:8080/",
          "height": 300
        },
        "id": "AJCc782xPKtA",
        "outputId": "bc2f28ec-f39f-4765-8799-531fd4de7951"
      },
      "execution_count": null,
      "outputs": [
        {
          "output_type": "execute_result",
          "data": {
            "text/plain": [
              "       Metragem  Quartos  Banheiros   Vagas  Valor_anuncio\n",
              "count   9156.00  9156.00    9156.00 9156.00        9156.00\n",
              "mean     434.42     3.45       3.80    3.96     3052202.96\n",
              "std     7856.42     1.05       1.97    2.60     3944208.19\n",
              "min       10.00     1.00       1.00    1.00       13000.00\n",
              "25%      168.00     3.00       2.00    2.00      890000.00\n",
              "50%      276.00     3.00       4.00    4.00     1800000.00\n",
              "75%      450.00     4.00       5.00    5.00     3500000.00\n",
              "max   750000.00    16.00      40.00   50.00    65000000.00"
            ],
            "text/html": [
              "\n",
              "  <div id=\"df-a77a18f2-3e59-4983-b71e-c6565526bd1a\">\n",
              "    <div class=\"colab-df-container\">\n",
              "      <div>\n",
              "<style scoped>\n",
              "    .dataframe tbody tr th:only-of-type {\n",
              "        vertical-align: middle;\n",
              "    }\n",
              "\n",
              "    .dataframe tbody tr th {\n",
              "        vertical-align: top;\n",
              "    }\n",
              "\n",
              "    .dataframe thead th {\n",
              "        text-align: right;\n",
              "    }\n",
              "</style>\n",
              "<table border=\"1\" class=\"dataframe\">\n",
              "  <thead>\n",
              "    <tr style=\"text-align: right;\">\n",
              "      <th></th>\n",
              "      <th>Metragem</th>\n",
              "      <th>Quartos</th>\n",
              "      <th>Banheiros</th>\n",
              "      <th>Vagas</th>\n",
              "      <th>Valor_anuncio</th>\n",
              "    </tr>\n",
              "  </thead>\n",
              "  <tbody>\n",
              "    <tr>\n",
              "      <th>count</th>\n",
              "      <td>9156.00</td>\n",
              "      <td>9156.00</td>\n",
              "      <td>9156.00</td>\n",
              "      <td>9156.00</td>\n",
              "      <td>9156.00</td>\n",
              "    </tr>\n",
              "    <tr>\n",
              "      <th>mean</th>\n",
              "      <td>434.42</td>\n",
              "      <td>3.45</td>\n",
              "      <td>3.80</td>\n",
              "      <td>3.96</td>\n",
              "      <td>3052202.96</td>\n",
              "    </tr>\n",
              "    <tr>\n",
              "      <th>std</th>\n",
              "      <td>7856.42</td>\n",
              "      <td>1.05</td>\n",
              "      <td>1.97</td>\n",
              "      <td>2.60</td>\n",
              "      <td>3944208.19</td>\n",
              "    </tr>\n",
              "    <tr>\n",
              "      <th>min</th>\n",
              "      <td>10.00</td>\n",
              "      <td>1.00</td>\n",
              "      <td>1.00</td>\n",
              "      <td>1.00</td>\n",
              "      <td>13000.00</td>\n",
              "    </tr>\n",
              "    <tr>\n",
              "      <th>25%</th>\n",
              "      <td>168.00</td>\n",
              "      <td>3.00</td>\n",
              "      <td>2.00</td>\n",
              "      <td>2.00</td>\n",
              "      <td>890000.00</td>\n",
              "    </tr>\n",
              "    <tr>\n",
              "      <th>50%</th>\n",
              "      <td>276.00</td>\n",
              "      <td>3.00</td>\n",
              "      <td>4.00</td>\n",
              "      <td>4.00</td>\n",
              "      <td>1800000.00</td>\n",
              "    </tr>\n",
              "    <tr>\n",
              "      <th>75%</th>\n",
              "      <td>450.00</td>\n",
              "      <td>4.00</td>\n",
              "      <td>5.00</td>\n",
              "      <td>5.00</td>\n",
              "      <td>3500000.00</td>\n",
              "    </tr>\n",
              "    <tr>\n",
              "      <th>max</th>\n",
              "      <td>750000.00</td>\n",
              "      <td>16.00</td>\n",
              "      <td>40.00</td>\n",
              "      <td>50.00</td>\n",
              "      <td>65000000.00</td>\n",
              "    </tr>\n",
              "  </tbody>\n",
              "</table>\n",
              "</div>\n",
              "      <button class=\"colab-df-convert\" onclick=\"convertToInteractive('df-a77a18f2-3e59-4983-b71e-c6565526bd1a')\"\n",
              "              title=\"Convert this dataframe to an interactive table.\"\n",
              "              style=\"display:none;\">\n",
              "        \n",
              "  <svg xmlns=\"http://www.w3.org/2000/svg\" height=\"24px\"viewBox=\"0 0 24 24\"\n",
              "       width=\"24px\">\n",
              "    <path d=\"M0 0h24v24H0V0z\" fill=\"none\"/>\n",
              "    <path d=\"M18.56 5.44l.94 2.06.94-2.06 2.06-.94-2.06-.94-.94-2.06-.94 2.06-2.06.94zm-11 1L8.5 8.5l.94-2.06 2.06-.94-2.06-.94L8.5 2.5l-.94 2.06-2.06.94zm10 10l.94 2.06.94-2.06 2.06-.94-2.06-.94-.94-2.06-.94 2.06-2.06.94z\"/><path d=\"M17.41 7.96l-1.37-1.37c-.4-.4-.92-.59-1.43-.59-.52 0-1.04.2-1.43.59L10.3 9.45l-7.72 7.72c-.78.78-.78 2.05 0 2.83L4 21.41c.39.39.9.59 1.41.59.51 0 1.02-.2 1.41-.59l7.78-7.78 2.81-2.81c.8-.78.8-2.07 0-2.86zM5.41 20L4 18.59l7.72-7.72 1.47 1.35L5.41 20z\"/>\n",
              "  </svg>\n",
              "      </button>\n",
              "      \n",
              "  <style>\n",
              "    .colab-df-container {\n",
              "      display:flex;\n",
              "      flex-wrap:wrap;\n",
              "      gap: 12px;\n",
              "    }\n",
              "\n",
              "    .colab-df-convert {\n",
              "      background-color: #E8F0FE;\n",
              "      border: none;\n",
              "      border-radius: 50%;\n",
              "      cursor: pointer;\n",
              "      display: none;\n",
              "      fill: #1967D2;\n",
              "      height: 32px;\n",
              "      padding: 0 0 0 0;\n",
              "      width: 32px;\n",
              "    }\n",
              "\n",
              "    .colab-df-convert:hover {\n",
              "      background-color: #E2EBFA;\n",
              "      box-shadow: 0px 1px 2px rgba(60, 64, 67, 0.3), 0px 1px 3px 1px rgba(60, 64, 67, 0.15);\n",
              "      fill: #174EA6;\n",
              "    }\n",
              "\n",
              "    [theme=dark] .colab-df-convert {\n",
              "      background-color: #3B4455;\n",
              "      fill: #D2E3FC;\n",
              "    }\n",
              "\n",
              "    [theme=dark] .colab-df-convert:hover {\n",
              "      background-color: #434B5C;\n",
              "      box-shadow: 0px 1px 3px 1px rgba(0, 0, 0, 0.15);\n",
              "      filter: drop-shadow(0px 1px 2px rgba(0, 0, 0, 0.3));\n",
              "      fill: #FFFFFF;\n",
              "    }\n",
              "  </style>\n",
              "\n",
              "      <script>\n",
              "        const buttonEl =\n",
              "          document.querySelector('#df-a77a18f2-3e59-4983-b71e-c6565526bd1a button.colab-df-convert');\n",
              "        buttonEl.style.display =\n",
              "          google.colab.kernel.accessAllowed ? 'block' : 'none';\n",
              "\n",
              "        async function convertToInteractive(key) {\n",
              "          const element = document.querySelector('#df-a77a18f2-3e59-4983-b71e-c6565526bd1a');\n",
              "          const dataTable =\n",
              "            await google.colab.kernel.invokeFunction('convertToInteractive',\n",
              "                                                     [key], {});\n",
              "          if (!dataTable) return;\n",
              "\n",
              "          const docLinkHtml = 'Like what you see? Visit the ' +\n",
              "            '<a target=\"_blank\" href=https://colab.research.google.com/notebooks/data_table.ipynb>data table notebook</a>'\n",
              "            + ' to learn more about interactive tables.';\n",
              "          element.innerHTML = '';\n",
              "          dataTable['output_type'] = 'display_data';\n",
              "          await google.colab.output.renderOutput(dataTable, element);\n",
              "          const docLink = document.createElement('div');\n",
              "          docLink.innerHTML = docLinkHtml;\n",
              "          element.appendChild(docLink);\n",
              "        }\n",
              "      </script>\n",
              "    </div>\n",
              "  </div>\n",
              "  "
            ]
          },
          "metadata": {},
          "execution_count": 40
        }
      ]
    },
    {
      "cell_type": "markdown",
      "source": [
        "Os valores já estão sendo tratados como dados numéricos, já podemos realizar operações com eles. Porém eles estão com uma notação estranha, vejamos o que podemos fazer para melhorar isso."
      ],
      "metadata": {
        "id": "rbHM_nI8PqxS"
      }
    },
    {
      "cell_type": "code",
      "source": [
        "pd.set_option(\"display.precision\", 2)\n",
        "pd.set_option(\"display.float_format\", lambda x: '%.2f' % x)"
      ],
      "metadata": {
        "id": "9PVslcyzQBlM"
      },
      "execution_count": null,
      "outputs": []
    },
    {
      "cell_type": "code",
      "source": [
        "dados_vendas.describe()"
      ],
      "metadata": {
        "colab": {
          "base_uri": "https://localhost:8080/",
          "height": 300
        },
        "id": "F3e7hMMfQDai",
        "outputId": "79d6bc79-9674-49f5-a873-4c69d56ee19e"
      },
      "execution_count": null,
      "outputs": [
        {
          "output_type": "execute_result",
          "data": {
            "text/plain": [
              "       Metragem  Quartos  Banheiros   Vagas  Valor_anuncio\n",
              "count   9156.00  9156.00    9156.00 9156.00        9156.00\n",
              "mean     434.42     3.45       3.80    3.96     3052202.96\n",
              "std     7856.42     1.05       1.97    2.60     3944208.19\n",
              "min       10.00     1.00       1.00    1.00       13000.00\n",
              "25%      168.00     3.00       2.00    2.00      890000.00\n",
              "50%      276.00     3.00       4.00    4.00     1800000.00\n",
              "75%      450.00     4.00       5.00    5.00     3500000.00\n",
              "max   750000.00    16.00      40.00   50.00    65000000.00"
            ],
            "text/html": [
              "\n",
              "  <div id=\"df-219b981a-3a12-4771-84dc-c39336dbcf16\">\n",
              "    <div class=\"colab-df-container\">\n",
              "      <div>\n",
              "<style scoped>\n",
              "    .dataframe tbody tr th:only-of-type {\n",
              "        vertical-align: middle;\n",
              "    }\n",
              "\n",
              "    .dataframe tbody tr th {\n",
              "        vertical-align: top;\n",
              "    }\n",
              "\n",
              "    .dataframe thead th {\n",
              "        text-align: right;\n",
              "    }\n",
              "</style>\n",
              "<table border=\"1\" class=\"dataframe\">\n",
              "  <thead>\n",
              "    <tr style=\"text-align: right;\">\n",
              "      <th></th>\n",
              "      <th>Metragem</th>\n",
              "      <th>Quartos</th>\n",
              "      <th>Banheiros</th>\n",
              "      <th>Vagas</th>\n",
              "      <th>Valor_anuncio</th>\n",
              "    </tr>\n",
              "  </thead>\n",
              "  <tbody>\n",
              "    <tr>\n",
              "      <th>count</th>\n",
              "      <td>9156.00</td>\n",
              "      <td>9156.00</td>\n",
              "      <td>9156.00</td>\n",
              "      <td>9156.00</td>\n",
              "      <td>9156.00</td>\n",
              "    </tr>\n",
              "    <tr>\n",
              "      <th>mean</th>\n",
              "      <td>434.42</td>\n",
              "      <td>3.45</td>\n",
              "      <td>3.80</td>\n",
              "      <td>3.96</td>\n",
              "      <td>3052202.96</td>\n",
              "    </tr>\n",
              "    <tr>\n",
              "      <th>std</th>\n",
              "      <td>7856.42</td>\n",
              "      <td>1.05</td>\n",
              "      <td>1.97</td>\n",
              "      <td>2.60</td>\n",
              "      <td>3944208.19</td>\n",
              "    </tr>\n",
              "    <tr>\n",
              "      <th>min</th>\n",
              "      <td>10.00</td>\n",
              "      <td>1.00</td>\n",
              "      <td>1.00</td>\n",
              "      <td>1.00</td>\n",
              "      <td>13000.00</td>\n",
              "    </tr>\n",
              "    <tr>\n",
              "      <th>25%</th>\n",
              "      <td>168.00</td>\n",
              "      <td>3.00</td>\n",
              "      <td>2.00</td>\n",
              "      <td>2.00</td>\n",
              "      <td>890000.00</td>\n",
              "    </tr>\n",
              "    <tr>\n",
              "      <th>50%</th>\n",
              "      <td>276.00</td>\n",
              "      <td>3.00</td>\n",
              "      <td>4.00</td>\n",
              "      <td>4.00</td>\n",
              "      <td>1800000.00</td>\n",
              "    </tr>\n",
              "    <tr>\n",
              "      <th>75%</th>\n",
              "      <td>450.00</td>\n",
              "      <td>4.00</td>\n",
              "      <td>5.00</td>\n",
              "      <td>5.00</td>\n",
              "      <td>3500000.00</td>\n",
              "    </tr>\n",
              "    <tr>\n",
              "      <th>max</th>\n",
              "      <td>750000.00</td>\n",
              "      <td>16.00</td>\n",
              "      <td>40.00</td>\n",
              "      <td>50.00</td>\n",
              "      <td>65000000.00</td>\n",
              "    </tr>\n",
              "  </tbody>\n",
              "</table>\n",
              "</div>\n",
              "      <button class=\"colab-df-convert\" onclick=\"convertToInteractive('df-219b981a-3a12-4771-84dc-c39336dbcf16')\"\n",
              "              title=\"Convert this dataframe to an interactive table.\"\n",
              "              style=\"display:none;\">\n",
              "        \n",
              "  <svg xmlns=\"http://www.w3.org/2000/svg\" height=\"24px\"viewBox=\"0 0 24 24\"\n",
              "       width=\"24px\">\n",
              "    <path d=\"M0 0h24v24H0V0z\" fill=\"none\"/>\n",
              "    <path d=\"M18.56 5.44l.94 2.06.94-2.06 2.06-.94-2.06-.94-.94-2.06-.94 2.06-2.06.94zm-11 1L8.5 8.5l.94-2.06 2.06-.94-2.06-.94L8.5 2.5l-.94 2.06-2.06.94zm10 10l.94 2.06.94-2.06 2.06-.94-2.06-.94-.94-2.06-.94 2.06-2.06.94z\"/><path d=\"M17.41 7.96l-1.37-1.37c-.4-.4-.92-.59-1.43-.59-.52 0-1.04.2-1.43.59L10.3 9.45l-7.72 7.72c-.78.78-.78 2.05 0 2.83L4 21.41c.39.39.9.59 1.41.59.51 0 1.02-.2 1.41-.59l7.78-7.78 2.81-2.81c.8-.78.8-2.07 0-2.86zM5.41 20L4 18.59l7.72-7.72 1.47 1.35L5.41 20z\"/>\n",
              "  </svg>\n",
              "      </button>\n",
              "      \n",
              "  <style>\n",
              "    .colab-df-container {\n",
              "      display:flex;\n",
              "      flex-wrap:wrap;\n",
              "      gap: 12px;\n",
              "    }\n",
              "\n",
              "    .colab-df-convert {\n",
              "      background-color: #E8F0FE;\n",
              "      border: none;\n",
              "      border-radius: 50%;\n",
              "      cursor: pointer;\n",
              "      display: none;\n",
              "      fill: #1967D2;\n",
              "      height: 32px;\n",
              "      padding: 0 0 0 0;\n",
              "      width: 32px;\n",
              "    }\n",
              "\n",
              "    .colab-df-convert:hover {\n",
              "      background-color: #E2EBFA;\n",
              "      box-shadow: 0px 1px 2px rgba(60, 64, 67, 0.3), 0px 1px 3px 1px rgba(60, 64, 67, 0.15);\n",
              "      fill: #174EA6;\n",
              "    }\n",
              "\n",
              "    [theme=dark] .colab-df-convert {\n",
              "      background-color: #3B4455;\n",
              "      fill: #D2E3FC;\n",
              "    }\n",
              "\n",
              "    [theme=dark] .colab-df-convert:hover {\n",
              "      background-color: #434B5C;\n",
              "      box-shadow: 0px 1px 3px 1px rgba(0, 0, 0, 0.15);\n",
              "      filter: drop-shadow(0px 1px 2px rgba(0, 0, 0, 0.3));\n",
              "      fill: #FFFFFF;\n",
              "    }\n",
              "  </style>\n",
              "\n",
              "      <script>\n",
              "        const buttonEl =\n",
              "          document.querySelector('#df-219b981a-3a12-4771-84dc-c39336dbcf16 button.colab-df-convert');\n",
              "        buttonEl.style.display =\n",
              "          google.colab.kernel.accessAllowed ? 'block' : 'none';\n",
              "\n",
              "        async function convertToInteractive(key) {\n",
              "          const element = document.querySelector('#df-219b981a-3a12-4771-84dc-c39336dbcf16');\n",
              "          const dataTable =\n",
              "            await google.colab.kernel.invokeFunction('convertToInteractive',\n",
              "                                                     [key], {});\n",
              "          if (!dataTable) return;\n",
              "\n",
              "          const docLinkHtml = 'Like what you see? Visit the ' +\n",
              "            '<a target=\"_blank\" href=https://colab.research.google.com/notebooks/data_table.ipynb>data table notebook</a>'\n",
              "            + ' to learn more about interactive tables.';\n",
              "          element.innerHTML = '';\n",
              "          dataTable['output_type'] = 'display_data';\n",
              "          await google.colab.output.renderOutput(dataTable, element);\n",
              "          const docLink = document.createElement('div');\n",
              "          docLink.innerHTML = docLinkHtml;\n",
              "          element.appendChild(docLink);\n",
              "        }\n",
              "      </script>\n",
              "    </div>\n",
              "  </div>\n",
              "  "
            ]
          },
          "metadata": {},
          "execution_count": 42
        }
      ]
    },
    {
      "cell_type": "markdown",
      "source": [
        "Agora sim, já temos os dados da forma que queremos usar para trabalhar. Vamos para os desafios  😁\n",
        "\n",
        "---\n",
        "\n"
      ],
      "metadata": {
        "id": "rBZa4cNNPL3t"
      }
    },
    {
      "cell_type": "markdown",
      "source": [
        "# Desafio 1: Criar uma escala de valores em milhões."
      ],
      "metadata": {
        "id": "zB8y4gizREyo"
      }
    },
    {
      "cell_type": "code",
      "source": [
        "dados_vendas[\"Valor_10^6\"] = dados_vendas[\"Valor_anuncio\"]/1000000 "
      ],
      "metadata": {
        "colab": {
          "base_uri": "https://localhost:8080/"
        },
        "id": "aiGyL1zzRULI",
        "outputId": "357dd80d-0bb1-43c7-fadc-03f0ddd77682"
      },
      "execution_count": null,
      "outputs": [
        {
          "output_type": "stream",
          "name": "stderr",
          "text": [
            "/usr/local/lib/python3.7/dist-packages/ipykernel_launcher.py:1: SettingWithCopyWarning: \n",
            "A value is trying to be set on a copy of a slice from a DataFrame.\n",
            "Try using .loc[row_indexer,col_indexer] = value instead\n",
            "\n",
            "See the caveats in the documentation: https://pandas.pydata.org/pandas-docs/stable/user_guide/indexing.html#returning-a-view-versus-a-copy\n",
            "  \"\"\"Entry point for launching an IPython kernel.\n"
          ]
        }
      ]
    },
    {
      "cell_type": "code",
      "source": [
        "dados_vendas[[\"Valor_anuncio\" ,\"Valor_10^6\"]].head()"
      ],
      "metadata": {
        "colab": {
          "base_uri": "https://localhost:8080/",
          "height": 206
        },
        "id": "cVEyy4O_Rc17",
        "outputId": "00728fce-d73a-4d1f-b46e-e47336241e29"
      },
      "execution_count": null,
      "outputs": [
        {
          "output_type": "execute_result",
          "data": {
            "text/plain": [
              "   Valor_anuncio  Valor_10^6\n",
              "0     7000000.00        7.00\n",
              "1     3700000.00        3.70\n",
              "2      380000.00        0.38\n",
              "3      685000.00        0.69\n",
              "4      540000.00        0.54"
            ],
            "text/html": [
              "\n",
              "  <div id=\"df-c10f35fc-f2b7-4680-a7af-4ae0a8693c63\">\n",
              "    <div class=\"colab-df-container\">\n",
              "      <div>\n",
              "<style scoped>\n",
              "    .dataframe tbody tr th:only-of-type {\n",
              "        vertical-align: middle;\n",
              "    }\n",
              "\n",
              "    .dataframe tbody tr th {\n",
              "        vertical-align: top;\n",
              "    }\n",
              "\n",
              "    .dataframe thead th {\n",
              "        text-align: right;\n",
              "    }\n",
              "</style>\n",
              "<table border=\"1\" class=\"dataframe\">\n",
              "  <thead>\n",
              "    <tr style=\"text-align: right;\">\n",
              "      <th></th>\n",
              "      <th>Valor_anuncio</th>\n",
              "      <th>Valor_10^6</th>\n",
              "    </tr>\n",
              "  </thead>\n",
              "  <tbody>\n",
              "    <tr>\n",
              "      <th>0</th>\n",
              "      <td>7000000.00</td>\n",
              "      <td>7.00</td>\n",
              "    </tr>\n",
              "    <tr>\n",
              "      <th>1</th>\n",
              "      <td>3700000.00</td>\n",
              "      <td>3.70</td>\n",
              "    </tr>\n",
              "    <tr>\n",
              "      <th>2</th>\n",
              "      <td>380000.00</td>\n",
              "      <td>0.38</td>\n",
              "    </tr>\n",
              "    <tr>\n",
              "      <th>3</th>\n",
              "      <td>685000.00</td>\n",
              "      <td>0.69</td>\n",
              "    </tr>\n",
              "    <tr>\n",
              "      <th>4</th>\n",
              "      <td>540000.00</td>\n",
              "      <td>0.54</td>\n",
              "    </tr>\n",
              "  </tbody>\n",
              "</table>\n",
              "</div>\n",
              "      <button class=\"colab-df-convert\" onclick=\"convertToInteractive('df-c10f35fc-f2b7-4680-a7af-4ae0a8693c63')\"\n",
              "              title=\"Convert this dataframe to an interactive table.\"\n",
              "              style=\"display:none;\">\n",
              "        \n",
              "  <svg xmlns=\"http://www.w3.org/2000/svg\" height=\"24px\"viewBox=\"0 0 24 24\"\n",
              "       width=\"24px\">\n",
              "    <path d=\"M0 0h24v24H0V0z\" fill=\"none\"/>\n",
              "    <path d=\"M18.56 5.44l.94 2.06.94-2.06 2.06-.94-2.06-.94-.94-2.06-.94 2.06-2.06.94zm-11 1L8.5 8.5l.94-2.06 2.06-.94-2.06-.94L8.5 2.5l-.94 2.06-2.06.94zm10 10l.94 2.06.94-2.06 2.06-.94-2.06-.94-.94-2.06-.94 2.06-2.06.94z\"/><path d=\"M17.41 7.96l-1.37-1.37c-.4-.4-.92-.59-1.43-.59-.52 0-1.04.2-1.43.59L10.3 9.45l-7.72 7.72c-.78.78-.78 2.05 0 2.83L4 21.41c.39.39.9.59 1.41.59.51 0 1.02-.2 1.41-.59l7.78-7.78 2.81-2.81c.8-.78.8-2.07 0-2.86zM5.41 20L4 18.59l7.72-7.72 1.47 1.35L5.41 20z\"/>\n",
              "  </svg>\n",
              "      </button>\n",
              "      \n",
              "  <style>\n",
              "    .colab-df-container {\n",
              "      display:flex;\n",
              "      flex-wrap:wrap;\n",
              "      gap: 12px;\n",
              "    }\n",
              "\n",
              "    .colab-df-convert {\n",
              "      background-color: #E8F0FE;\n",
              "      border: none;\n",
              "      border-radius: 50%;\n",
              "      cursor: pointer;\n",
              "      display: none;\n",
              "      fill: #1967D2;\n",
              "      height: 32px;\n",
              "      padding: 0 0 0 0;\n",
              "      width: 32px;\n",
              "    }\n",
              "\n",
              "    .colab-df-convert:hover {\n",
              "      background-color: #E2EBFA;\n",
              "      box-shadow: 0px 1px 2px rgba(60, 64, 67, 0.3), 0px 1px 3px 1px rgba(60, 64, 67, 0.15);\n",
              "      fill: #174EA6;\n",
              "    }\n",
              "\n",
              "    [theme=dark] .colab-df-convert {\n",
              "      background-color: #3B4455;\n",
              "      fill: #D2E3FC;\n",
              "    }\n",
              "\n",
              "    [theme=dark] .colab-df-convert:hover {\n",
              "      background-color: #434B5C;\n",
              "      box-shadow: 0px 1px 3px 1px rgba(0, 0, 0, 0.15);\n",
              "      filter: drop-shadow(0px 1px 2px rgba(0, 0, 0, 0.3));\n",
              "      fill: #FFFFFF;\n",
              "    }\n",
              "  </style>\n",
              "\n",
              "      <script>\n",
              "        const buttonEl =\n",
              "          document.querySelector('#df-c10f35fc-f2b7-4680-a7af-4ae0a8693c63 button.colab-df-convert');\n",
              "        buttonEl.style.display =\n",
              "          google.colab.kernel.accessAllowed ? 'block' : 'none';\n",
              "\n",
              "        async function convertToInteractive(key) {\n",
              "          const element = document.querySelector('#df-c10f35fc-f2b7-4680-a7af-4ae0a8693c63');\n",
              "          const dataTable =\n",
              "            await google.colab.kernel.invokeFunction('convertToInteractive',\n",
              "                                                     [key], {});\n",
              "          if (!dataTable) return;\n",
              "\n",
              "          const docLinkHtml = 'Like what you see? Visit the ' +\n",
              "            '<a target=\"_blank\" href=https://colab.research.google.com/notebooks/data_table.ipynb>data table notebook</a>'\n",
              "            + ' to learn more about interactive tables.';\n",
              "          element.innerHTML = '';\n",
              "          dataTable['output_type'] = 'display_data';\n",
              "          await google.colab.output.renderOutput(dataTable, element);\n",
              "          const docLink = document.createElement('div');\n",
              "          docLink.innerHTML = docLinkHtml;\n",
              "          element.appendChild(docLink);\n",
              "        }\n",
              "      </script>\n",
              "    </div>\n",
              "  </div>\n",
              "  "
            ]
          },
          "metadata": {},
          "execution_count": 44
        }
      ]
    },
    {
      "cell_type": "markdown",
      "source": [
        "Para evitar que o tamanho dos número poluam os gráficos podemos trabalhar com eles em uma determinada escada. Nesse caso para vermos os valores reais teriamos que multiplicar os dados da coluna \"*Valor_10^6*\" por 10^6"
      ],
      "metadata": {
        "id": "AQQXCTs5RpWz"
      }
    },
    {
      "cell_type": "markdown",
      "source": [
        "\n",
        "\n",
        "---\n",
        "\n",
        "# Desafio 2: Deixar o gráfico do histograma de valores legível"
      ],
      "metadata": {
        "id": "j2rz_XFuS2Py"
      }
    },
    {
      "cell_type": "code",
      "source": [
        "import seaborn as sns\n",
        "\n",
        "sns.set()\n",
        "\n",
        "sns.histplot(data = dados_vendas, x = \"Valor_anuncio\")"
      ],
      "metadata": {
        "colab": {
          "base_uri": "https://localhost:8080/",
          "height": 302
        },
        "id": "EIkeCQ6sRi6R",
        "outputId": "60dd60e4-fbd1-48f4-d9fa-a3e03844f760"
      },
      "execution_count": null,
      "outputs": [
        {
          "output_type": "execute_result",
          "data": {
            "text/plain": [
              "<matplotlib.axes._subplots.AxesSubplot at 0x7fb0c346c0d0>"
            ]
          },
          "metadata": {},
          "execution_count": 45
        },
        {
          "output_type": "display_data",
          "data": {
            "text/plain": [
              "<Figure size 432x288 with 1 Axes>"
            ],
            "image/png": "[encoded data removed]"
          },
          "metadata": {}
        }
      ]
    },
    {
      "cell_type": "markdown",
      "source": [
        "A partir das configurações padrões o histograma seria mostrado dessa forma, vamos ver se podemos melhorar isso dai."
      ],
      "metadata": {
        "id": "18VQ-SR7TMrB"
      }
    },
    {
      "cell_type": "code",
      "source": [
        "import matplotlib.pyplot as plt\n",
        "\n",
        "plt.figure(figsize=(10, 8))\n",
        "ax = sns.histplot(data = dados_vendas, x = \"Valor_anuncio\")\n",
        "\n",
        "ax.set_title(\"Histograma Valor\")\n",
        "\n",
        "plt.xlim((-50, 7900000))\n",
        "plt.show()"
      ],
      "metadata": {
        "colab": {
          "base_uri": "https://localhost:8080/",
          "height": 518
        },
        "id": "YqbucB_mTJXl",
        "outputId": "18271dcc-a66f-44c3-e1bf-77070033f061"
      },
      "execution_count": null,
      "outputs": [
        {
          "output_type": "display_data",
          "data": {
            "text/plain": [
              "<Figure size 720x576 with 1 Axes>"
            ],
            "image/png": "[encoded data removed]"
          },
          "metadata": {}
        }
      ]
    },
    {
      "cell_type": "markdown",
      "source": [
        "Até que melhorou um pouco, só que ainda não está tão claro o que temos ai. Por exemplo, uma coisa que podemos nos perguntar é: o que esse *count* representa?"
      ],
      "metadata": {
        "id": "JUGGWqyjTkJN"
      }
    },
    {
      "cell_type": "code",
      "source": [
        "\n",
        "plt.figure(figsize=(12, 10))\n",
        "\n",
        "sns.set_style(\"white\")\n",
        "\n",
        "sns.set_palette(\"RdBu_r\")\n",
        "\n",
        "bx = sns.histplot(data = dados_vendas, x = \"Valor_anuncio\")\n",
        "\n",
        "\n",
        "\n",
        "bx.set_title(\"Número de imóveis por valor\", size = 15)\n",
        "bx.set_xlabel( \"Valor (R$)\" , size = 12 )\n",
        "bx.set_ylabel( \"Quantidade de imóveis\" , size = 12 )\n",
        "\n",
        "\n",
        "plt.ticklabel_format(style='plain', axis='x')\n",
        "\n",
        "plt.xlim((-50, 7900000))\n",
        "plt.show()"
      ],
      "metadata": {
        "colab": {
          "base_uri": "https://localhost:8080/",
          "height": 630
        },
        "id": "oUG2rftHTenp",
        "outputId": "293f039f-8a48-4273-d88c-48edb68d692c"
      },
      "execution_count": null,
      "outputs": [
        {
          "output_type": "display_data",
          "data": {
            "text/plain": [
              "<Figure size 864x720 with 1 Axes>"
            ],
            "image/png": "[encoded data removed]"
          },
          "metadata": {}
        }
      ]
    },
    {
      "cell_type": "markdown",
      "source": [
        "Bem melhor! Agora me diga, o que você entende ao observar esse gráfico?  🤔"
      ],
      "metadata": {
        "id": "0ImBobFKUlDw"
      }
    },
    {
      "cell_type": "markdown",
      "source": [
        "\n",
        "---\n",
        "\n",
        "# Desafio 3: Preço do metro quadrado por bairro e plotar em um gráfico ideal."
      ],
      "metadata": {
        "id": "gZPu7iPWVPqR"
      }
    },
    {
      "cell_type": "code",
      "source": [
        "dados_bairro = dados_vendas.groupby(\"Bairro\").sum().reset_index()\n",
        "\n",
        "dados_bairro[\"Valor_metro\"] = dados_bairro[\"Valor_anuncio\"]/dados_bairro[\"Metragem\"]\n",
        "\n",
        "dados_bairro"
      ],
      "metadata": {
        "colab": {
          "base_uri": "https://localhost:8080/",
          "height": 424
        },
        "id": "P_mjZfjSUce7",
        "outputId": "ea97e4a4-54ef-4b0c-a175-57f84b4d50c5"
      },
      "execution_count": 94,
      "outputs": [
        {
          "output_type": "execute_result",
          "data": {
            "text/plain": [
              "                Bairro  Metragem  Quartos  Banheiros  Vagas  Valor_anuncio  \\\n",
              "0            Aclimação     19447      258        240    230   139292801.00   \n",
              "1    Alto da Boa Vista      3351       33         41     37    19130000.00   \n",
              "2         Alto da Lapa     23940      252        308    320   166653500.00   \n",
              "3        Alto da Mooca      5401       66         52     73    23683400.00   \n",
              "4    Alto de Pinheiros    158616     1453       1782   1827  1764815915.00   \n",
              "..                 ...       ...      ...        ...    ...            ...   \n",
              "692    Vila Água Funda       761       13         11     13     3260000.00   \n",
              "693        Água Branca      2083       37         39     27    14718000.00   \n",
              "694          Água Fria      1985       34         41     30    11125000.00   \n",
              "695         Água Funda       278        6          5      4     1090000.00   \n",
              "696          Água Rasa      1117       16         12     22     4297000.00   \n",
              "\n",
              "     Valor_10^6  Valor_metro  \n",
              "0        139.29      7162.69  \n",
              "1         19.13      5708.74  \n",
              "2        166.65      6961.30  \n",
              "3         23.68      4385.00  \n",
              "4       1764.82     11126.34  \n",
              "..          ...          ...  \n",
              "692        3.26      4283.84  \n",
              "693       14.72      7065.77  \n",
              "694       11.12      5604.53  \n",
              "695        1.09      3920.86  \n",
              "696        4.30      3846.91  \n",
              "\n",
              "[697 rows x 8 columns]"
            ],
            "text/html": [
              "\n",
              "  <div id=\"df-d8c5caab-ed44-47e1-967e-3c0b9e037323\">\n",
              "    <div class=\"colab-df-container\">\n",
              "      <div>\n",
              "<style scoped>\n",
              "    .dataframe tbody tr th:only-of-type {\n",
              "        vertical-align: middle;\n",
              "    }\n",
              "\n",
              "    .dataframe tbody tr th {\n",
              "        vertical-align: top;\n",
              "    }\n",
              "\n",
              "    .dataframe thead th {\n",
              "        text-align: right;\n",
              "    }\n",
              "</style>\n",
              "<table border=\"1\" class=\"dataframe\">\n",
              "  <thead>\n",
              "    <tr style=\"text-align: right;\">\n",
              "      <th></th>\n",
              "      <th>Bairro</th>\n",
              "      <th>Metragem</th>\n",
              "      <th>Quartos</th>\n",
              "      <th>Banheiros</th>\n",
              "      <th>Vagas</th>\n",
              "      <th>Valor_anuncio</th>\n",
              "      <th>Valor_10^6</th>\n",
              "      <th>Valor_metro</th>\n",
              "    </tr>\n",
              "  </thead>\n",
              "  <tbody>\n",
              "    <tr>\n",
              "      <th>0</th>\n",
              "      <td>Aclimação</td>\n",
              "      <td>19447</td>\n",
              "      <td>258</td>\n",
              "      <td>240</td>\n",
              "      <td>230</td>\n",
              "      <td>139292801.00</td>\n",
              "      <td>139.29</td>\n",
              "      <td>7162.69</td>\n",
              "    </tr>\n",
              "    <tr>\n",
              "      <th>1</th>\n",
              "      <td>Alto da Boa Vista</td>\n",
              "      <td>3351</td>\n",
              "      <td>33</td>\n",
              "      <td>41</td>\n",
              "      <td>37</td>\n",
              "      <td>19130000.00</td>\n",
              "      <td>19.13</td>\n",
              "      <td>5708.74</td>\n",
              "    </tr>\n",
              "    <tr>\n",
              "      <th>2</th>\n",
              "      <td>Alto da Lapa</td>\n",
              "      <td>23940</td>\n",
              "      <td>252</td>\n",
              "      <td>308</td>\n",
              "      <td>320</td>\n",
              "      <td>166653500.00</td>\n",
              "      <td>166.65</td>\n",
              "      <td>6961.30</td>\n",
              "    </tr>\n",
              "    <tr>\n",
              "      <th>3</th>\n",
              "      <td>Alto da Mooca</td>\n",
              "      <td>5401</td>\n",
              "      <td>66</td>\n",
              "      <td>52</td>\n",
              "      <td>73</td>\n",
              "      <td>23683400.00</td>\n",
              "      <td>23.68</td>\n",
              "      <td>4385.00</td>\n",
              "    </tr>\n",
              "    <tr>\n",
              "      <th>4</th>\n",
              "      <td>Alto de Pinheiros</td>\n",
              "      <td>158616</td>\n",
              "      <td>1453</td>\n",
              "      <td>1782</td>\n",
              "      <td>1827</td>\n",
              "      <td>1764815915.00</td>\n",
              "      <td>1764.82</td>\n",
              "      <td>11126.34</td>\n",
              "    </tr>\n",
              "    <tr>\n",
              "      <th>...</th>\n",
              "      <td>...</td>\n",
              "      <td>...</td>\n",
              "      <td>...</td>\n",
              "      <td>...</td>\n",
              "      <td>...</td>\n",
              "      <td>...</td>\n",
              "      <td>...</td>\n",
              "      <td>...</td>\n",
              "    </tr>\n",
              "    <tr>\n",
              "      <th>692</th>\n",
              "      <td>Vila Água Funda</td>\n",
              "      <td>761</td>\n",
              "      <td>13</td>\n",
              "      <td>11</td>\n",
              "      <td>13</td>\n",
              "      <td>3260000.00</td>\n",
              "      <td>3.26</td>\n",
              "      <td>4283.84</td>\n",
              "    </tr>\n",
              "    <tr>\n",
              "      <th>693</th>\n",
              "      <td>Água Branca</td>\n",
              "      <td>2083</td>\n",
              "      <td>37</td>\n",
              "      <td>39</td>\n",
              "      <td>27</td>\n",
              "      <td>14718000.00</td>\n",
              "      <td>14.72</td>\n",
              "      <td>7065.77</td>\n",
              "    </tr>\n",
              "    <tr>\n",
              "      <th>694</th>\n",
              "      <td>Água Fria</td>\n",
              "      <td>1985</td>\n",
              "      <td>34</td>\n",
              "      <td>41</td>\n",
              "      <td>30</td>\n",
              "      <td>11125000.00</td>\n",
              "      <td>11.12</td>\n",
              "      <td>5604.53</td>\n",
              "    </tr>\n",
              "    <tr>\n",
              "      <th>695</th>\n",
              "      <td>Água Funda</td>\n",
              "      <td>278</td>\n",
              "      <td>6</td>\n",
              "      <td>5</td>\n",
              "      <td>4</td>\n",
              "      <td>1090000.00</td>\n",
              "      <td>1.09</td>\n",
              "      <td>3920.86</td>\n",
              "    </tr>\n",
              "    <tr>\n",
              "      <th>696</th>\n",
              "      <td>Água Rasa</td>\n",
              "      <td>1117</td>\n",
              "      <td>16</td>\n",
              "      <td>12</td>\n",
              "      <td>22</td>\n",
              "      <td>4297000.00</td>\n",
              "      <td>4.30</td>\n",
              "      <td>3846.91</td>\n",
              "    </tr>\n",
              "  </tbody>\n",
              "</table>\n",
              "<p>697 rows × 8 columns</p>\n",
              "</div>\n",
              "      <button class=\"colab-df-convert\" onclick=\"convertToInteractive('df-d8c5caab-ed44-47e1-967e-3c0b9e037323')\"\n",
              "              title=\"Convert this dataframe to an interactive table.\"\n",
              "              style=\"display:none;\">\n",
              "        \n",
              "  <svg xmlns=\"http://www.w3.org/2000/svg\" height=\"24px\"viewBox=\"0 0 24 24\"\n",
              "       width=\"24px\">\n",
              "    <path d=\"M0 0h24v24H0V0z\" fill=\"none\"/>\n",
              "    <path d=\"M18.56 5.44l.94 2.06.94-2.06 2.06-.94-2.06-.94-.94-2.06-.94 2.06-2.06.94zm-11 1L8.5 8.5l.94-2.06 2.06-.94-2.06-.94L8.5 2.5l-.94 2.06-2.06.94zm10 10l.94 2.06.94-2.06 2.06-.94-2.06-.94-.94-2.06-.94 2.06-2.06.94z\"/><path d=\"M17.41 7.96l-1.37-1.37c-.4-.4-.92-.59-1.43-.59-.52 0-1.04.2-1.43.59L10.3 9.45l-7.72 7.72c-.78.78-.78 2.05 0 2.83L4 21.41c.39.39.9.59 1.41.59.51 0 1.02-.2 1.41-.59l7.78-7.78 2.81-2.81c.8-.78.8-2.07 0-2.86zM5.41 20L4 18.59l7.72-7.72 1.47 1.35L5.41 20z\"/>\n",
              "  </svg>\n",
              "      </button>\n",
              "      \n",
              "  <style>\n",
              "    .colab-df-container {\n",
              "      display:flex;\n",
              "      flex-wrap:wrap;\n",
              "      gap: 12px;\n",
              "    }\n",
              "\n",
              "    .colab-df-convert {\n",
              "      background-color: #E8F0FE;\n",
              "      border: none;\n",
              "      border-radius: 50%;\n",
              "      cursor: pointer;\n",
              "      display: none;\n",
              "      fill: #1967D2;\n",
              "      height: 32px;\n",
              "      padding: 0 0 0 0;\n",
              "      width: 32px;\n",
              "    }\n",
              "\n",
              "    .colab-df-convert:hover {\n",
              "      background-color: #E2EBFA;\n",
              "      box-shadow: 0px 1px 2px rgba(60, 64, 67, 0.3), 0px 1px 3px 1px rgba(60, 64, 67, 0.15);\n",
              "      fill: #174EA6;\n",
              "    }\n",
              "\n",
              "    [theme=dark] .colab-df-convert {\n",
              "      background-color: #3B4455;\n",
              "      fill: #D2E3FC;\n",
              "    }\n",
              "\n",
              "    [theme=dark] .colab-df-convert:hover {\n",
              "      background-color: #434B5C;\n",
              "      box-shadow: 0px 1px 3px 1px rgba(0, 0, 0, 0.15);\n",
              "      filter: drop-shadow(0px 1px 2px rgba(0, 0, 0, 0.3));\n",
              "      fill: #FFFFFF;\n",
              "    }\n",
              "  </style>\n",
              "\n",
              "      <script>\n",
              "        const buttonEl =\n",
              "          document.querySelector('#df-d8c5caab-ed44-47e1-967e-3c0b9e037323 button.colab-df-convert');\n",
              "        buttonEl.style.display =\n",
              "          google.colab.kernel.accessAllowed ? 'block' : 'none';\n",
              "\n",
              "        async function convertToInteractive(key) {\n",
              "          const element = document.querySelector('#df-d8c5caab-ed44-47e1-967e-3c0b9e037323');\n",
              "          const dataTable =\n",
              "            await google.colab.kernel.invokeFunction('convertToInteractive',\n",
              "                                                     [key], {});\n",
              "          if (!dataTable) return;\n",
              "\n",
              "          const docLinkHtml = 'Like what you see? Visit the ' +\n",
              "            '<a target=\"_blank\" href=https://colab.research.google.com/notebooks/data_table.ipynb>data table notebook</a>'\n",
              "            + ' to learn more about interactive tables.';\n",
              "          element.innerHTML = '';\n",
              "          dataTable['output_type'] = 'display_data';\n",
              "          await google.colab.output.renderOutput(dataTable, element);\n",
              "          const docLink = document.createElement('div');\n",
              "          docLink.innerHTML = docLinkHtml;\n",
              "          element.appendChild(docLink);\n",
              "        }\n",
              "      </script>\n",
              "    </div>\n",
              "  </div>\n",
              "  "
            ]
          },
          "metadata": {},
          "execution_count": 94
        }
      ]
    },
    {
      "cell_type": "markdown",
      "source": [
        "Para melhor visualização retiramos uma amostra aleatória dos nossos dados e iremos observar ela por meio de um gráfico de barras.\n",
        "\n",
        "Nele será possível visualizar a diferença do valor do m² bairro a bairro."
      ],
      "metadata": {
        "id": "nBb9nSCnVdRl"
      }
    },
    {
      "cell_type": "code",
      "source": [
        "import numpy as np\n",
        "\n",
        "plt.figure(figsize=(12, 10))\n",
        "\n",
        "sns.set_style(\"white\")\n",
        "\n",
        "dados_grafico = dados_bairro.sample(30)\n",
        "\n",
        "ax = sns.barplot(data = dados_grafico, y = \"Bairro\", x=\"Valor_metro\")\n",
        "\n",
        "plt.title(\"Valores por metro quadrado\")\n",
        "plt.ylabel(\"Bairros\")\n",
        "\n",
        "\n",
        "plt.xlabel(\"Preço por metro (R$)\")\n",
        "\n",
        "\n",
        "plt.show()\n"
      ],
      "metadata": {
        "colab": {
          "base_uri": "https://localhost:8080/",
          "height": 620
        },
        "id": "XQOYoiVAVXt3",
        "outputId": "29128172-ef36-4b05-9b4e-a8f0a62d9142"
      },
      "execution_count": 97,
      "outputs": [
        {
          "output_type": "display_data",
          "data": {
            "text/plain": [
              "<Figure size 864x720 with 1 Axes>"
            ],
            "image/png": "[encoded data removed]"
          },
          "metadata": {}
        }
      ]
    },
    {
      "cell_type": "markdown",
      "source": [
        "\n",
        "---\n",
        "\n",
        "# Desafio 4: Explorar as bibliotecas de visualizações e colocar as suas conclusão"
      ],
      "metadata": {
        "id": "AhaogibIXAxx"
      }
    },
    {
      "cell_type": "code",
      "source": [
        "plt.figure(figsize=(12, 10))\n",
        "\n",
        "sns.set_style(\"white\")\n",
        "\n",
        "dados_grafico = dados_bairro.groupby(\"Bairro\")[\"Metragem\"].mean().reset_index()\n",
        "\n",
        "\n",
        "\n",
        "media_quartos = dados_bairro.groupby(\"Bairro\")[\"Valor_anuncio\"].mean().reset_index()\n",
        "\n",
        "dados_grafico[\"Valor_anuncio\"] = media_quartos[\"Valor_anuncio\"]\n",
        "\n",
        "\n",
        "\n",
        "ax = sns.scatterplot(data = dados_grafico, x=\"Metragem\", y=\"Valor_anuncio\")\n",
        "\n",
        "ax.set_title(\"Valores dos imóveis por m²\", size = 15)\n",
        "ax.set_xlabel( \"m²\", size = 12 )\n",
        "ax.set_ylabel( \"Valor (R$)\" , size = 12 )\n",
        "\n",
        "plt.ticklabel_format(style='plain', axis='y')\n",
        "\n",
        "plt.ticklabel_format(style='plain', axis='x')\n",
        "\n",
        "plt.xlim((0, 500))\n",
        "\n",
        "plt.ylim((0, 1700000))\n",
        "\n",
        "\n",
        "plt.show()"
      ],
      "metadata": {
        "colab": {
          "base_uri": "https://localhost:8080/",
          "height": 630
        },
        "id": "ODmG-tBCWGs0",
        "outputId": "8272286d-97d1-453e-8759-55a0fed87e31"
      },
      "execution_count": 98,
      "outputs": [
        {
          "output_type": "display_data",
          "data": {
            "text/plain": [
              "<Figure size 864x720 with 1 Axes>"
            ],
            "image/png": "[encoded data removed]"
          },
          "metadata": {}
        }
      ]
    },
    {
      "cell_type": "markdown",
      "source": [
        "Esse é um gráfico de dispersão, a partir dele podemos comparar duas variáveis, nesse caso são o *valor* e o *m²*. Diferente do gráfico de barras não temos como saber quais são os bairros apresentados, porém podemos tirar outro tipo de informações. \n",
        "\n",
        "Por exemplo, percebe-se uma maior concentração de imóveis que possuem entre 100m² e 200m² e a maioria deles possui uma média de preço semelhante, porém alguns acabam tendo valores mais elevado que podem ser justificados a partir do gráfico de barras, onde vimos que em alguns bairros o preço do m² é maior que em outros.\n",
        "\n",
        "Podemos ver também que, normalmente quanto maior o m² maior será o valor do imóvel. É possível fazer essa comparação também a respeito da quantidade de quartos por m², ou a quanitade de banheiros, entre outras associações."
      ],
      "metadata": {
        "id": "wSiEzPiAY_b0"
      }
    },
    {
      "cell_type": "markdown",
      "source": [
        "\n",
        "---\n",
        "\n",
        "# Desafio 5: Pesquisar um visualização para analisar os quartis, mediana e outliers"
      ],
      "metadata": {
        "id": "Ji0y3dMPbf0R"
      }
    },
    {
      "cell_type": "markdown",
      "source": [
        "O tipo de gráfico mais comum para esse tipo de visualização é o **boxplot**, ele é dividido entre quartis, apresenta a mediana e os valores outliers. Exatamente, ele mostra tudo o que precisamos. Segue abaixo um exemplo de um boxplot, para ajudar na compreensão."
      ],
      "metadata": {
        "id": "Sb58hK15bn4Y"
      }
    },
    {
      "cell_type": "markdown",
      "source": [
        "![boxplot-1-1024x664.webp](data:image/webp;base64,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)"
      ],
      "metadata": {
        "id": "M8Ttge-WcF2M"
      }
    },
    {
      "cell_type": "markdown",
      "source": [
        ""
      ],
      "metadata": {
        "id": "z33qF6w-cS0K"
      }
    },
    {
      "cell_type": "code",
      "source": [
        "plt.figure(figsize=(12, 10))\n",
        "\n",
        "sns.set_style(\"white\")\n",
        "\n",
        "plt.ylim((-50, 11000))\n",
        "\n",
        "ax = sns.boxplot(data = dados_bairro, y=\"Valor_metro\")\n",
        "\n",
        "plt.ylabel(\"Preço por m²\")\n",
        "\n",
        "plt.show()"
      ],
      "metadata": {
        "colab": {
          "base_uri": "https://localhost:8080/",
          "height": 578
        },
        "id": "5_Sl1IcBbtZp",
        "outputId": "43391f43-4d8e-407f-c2e1-133f7fd344d2"
      },
      "execution_count": 99,
      "outputs": [
        {
          "output_type": "display_data",
          "data": {
            "text/plain": [
              "<Figure size 864x720 with 1 Axes>"
            ],
            "image/png": "[encoded data removed]"
          },
          "metadata": {}
        }
      ]
    },
    {
      "cell_type": "markdown",
      "source": [
        "Mais uma vez trazendo o Preço por m², podemos observar que 75% (quantidade de valores até o terceiro quártil) tem uma média de preço por m² de até R\\$ 6.000,00. É visto também que existem alguns bairros que o preço por m² excede o valor de R$ 10.000,00, sendo esses considerados como outliers, ou sejam, são valores que podem ser considerados incorretos ou desprorcionais podem vir a prejudicar no cálculo das médias, entre outras coisas.\n",
        "\n",
        "Esses outlier podem ser bairros com apenas um imóvel a venda, ou dados informados de forma errada, até mesmo imóveis diferentes (chácaras, sítios, prédios, entre outros) que tenham valores realmente maiores."
      ],
      "metadata": {
        "id": "cmQRf8aUdWff"
      }
    },
    {
      "cell_type": "code",
      "source": [
        ""
      ],
      "metadata": {
        "id": "RURjGv5he9xf"
      },
      "execution_count": null,
      "outputs": []
    },
    {
      "cell_type": "code",
      "source": [
        ""
      ],
      "metadata": {
        "id": "QxHqJhkxc2hW"
      },
      "execution_count": null,
      "outputs": []
    }
  ]
}